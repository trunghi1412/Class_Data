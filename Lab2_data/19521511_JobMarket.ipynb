{
 "cells": [
  {
   "cell_type": "code",
   "execution_count": 16,
   "id": "4a84db9c",
   "metadata": {},
   "outputs": [
    {
     "name": "stdout",
     "output_type": "stream",
     "text": [
      "               Id                                              Title  \\\n",
      "0      37404348.0                           Casual Stock Replenisher   \n",
      "1      37404337.0                           Casual Stock Replenisher   \n",
      "2      37404356.0  RETAIL SALES SUPERSTARS and STYLISTS Wanted - ...   \n",
      "3      37404330.0                              Team member - Belrose   \n",
      "4      37404308.0  Business Banking Contact Centre Specialist, Ni...   \n",
      "...           ...                                                ...   \n",
      "40784         NaN                                                NaN   \n",
      "40785         NaN                                                NaN   \n",
      "40786         NaN                                                NaN   \n",
      "40787         NaN                                                NaN   \n",
      "40788         NaN                                                NaN   \n",
      "\n",
      "                                              Company  \\\n",
      "0                                         Aldi Stores   \n",
      "1                                         Aldi Stores   \n",
      "2                                 LB Creative Pty Ltd   \n",
      "3                              Anaconda Group Pty Ltd   \n",
      "4      Commonwealth Bank - Business & Private Banking   \n",
      "...                                               ...   \n",
      "40784                                             NaN   \n",
      "40785                                             NaN   \n",
      "40786                                             NaN   \n",
      "40787                                             NaN   \n",
      "40788                                             NaN   \n",
      "\n",
      "                           Date                 Location  \\\n",
      "0      2018-10-07T00:00:00.000Z                   Sydney   \n",
      "1      2018-10-07T00:00:00.000Z    Richmond & Hawkesbury   \n",
      "2      2018-10-07T00:00:00.000Z                 Brisbane   \n",
      "3      2018-10-07T00:00:00.000Z  Gosford & Central Coast   \n",
      "4      2018-10-07T00:00:00.000Z                   Sydney   \n",
      "...                         ...                      ...   \n",
      "40784                       NaN                      NaN   \n",
      "40785                       NaN                      NaN   \n",
      "40786                       NaN                      NaN   \n",
      "40787                       NaN                      NaN   \n",
      "40788                       NaN                      NaN   \n",
      "\n",
      "                              Area                  Classification  \\\n",
      "0      North West & Hills District      Retail & Consumer Products   \n",
      "1                              NaN      Retail & Consumer Products   \n",
      "2              CBD & Inner Suburbs      Retail & Consumer Products   \n",
      "3                              NaN      Retail & Consumer Products   \n",
      "4            Ryde & Macquarie Park  Call Centre & Customer Service   \n",
      "...                            ...                             ...   \n",
      "40784                          NaN                             NaN   \n",
      "40785                          NaN                             NaN   \n",
      "40786                          NaN                             NaN   \n",
      "40787                          NaN                             NaN   \n",
      "40788                          NaN                             NaN   \n",
      "\n",
      "       SubClassification                                        Requirement  \\\n",
      "0      Retail Assistants  Our Casual Stock Replenishers pride themselves...   \n",
      "1      Retail Assistants  Our Casual Stock Replenishers pride themselves...   \n",
      "2      Retail Assistants  BRAND NEW FLAGSHIP STORE OPENING - SUNSHINE PLAZA   \n",
      "3      Retail Assistants  Bring it on - do you love the great outdoors a...   \n",
      "4        Sales - Inbound  We are seeking highly articulate, enthusiastic...   \n",
      "...                  ...                                                ...   \n",
      "40784                NaN                                                NaN   \n",
      "40785                NaN                                                NaN   \n",
      "40786                NaN                                                NaN   \n",
      "40787                NaN                                                NaN   \n",
      "40788                NaN                                                NaN   \n",
      "\n",
      "      FullDescription  LowestSalary  HighestSalary JobType  \n",
      "0                 NaN           0.0           30.0     NaN  \n",
      "1                 NaN           0.0           30.0     NaN  \n",
      "2                 NaN           0.0           30.0     NaN  \n",
      "3                 NaN           0.0           30.0     NaN  \n",
      "4                 NaN           0.0           30.0     NaN  \n",
      "...               ...           ...            ...     ...  \n",
      "40784             NaN           NaN            NaN     NaN  \n",
      "40785             NaN           NaN            NaN     NaN  \n",
      "40786             NaN           NaN            NaN     NaN  \n",
      "40787             NaN           NaN            NaN     NaN  \n",
      "40788             NaN           NaN            NaN     NaN  \n",
      "\n",
      "[40789 rows x 13 columns]\n"
     ]
    }
   ],
   "source": [
    "import pandas as pd\n",
    "\n",
    "df = pd.read_csv(r'B:\\python\\job-market.csv')\n",
    "print(df)"
   ]
  },
  {
   "cell_type": "code",
   "execution_count": 17,
   "id": "67384cb6",
   "metadata": {
    "scrolled": true
   },
   "outputs": [
    {
     "name": "stdout",
     "output_type": "stream",
     "text": [
      "           Id                                              Title  \\\n",
      "0  37404348.0                           Casual Stock Replenisher   \n",
      "1  37404337.0                           Casual Stock Replenisher   \n",
      "2  37404356.0  RETAIL SALES SUPERSTARS and STYLISTS Wanted - ...   \n",
      "3  37404330.0                              Team member - Belrose   \n",
      "4  37404308.0  Business Banking Contact Centre Specialist, Ni...   \n",
      "5  37404307.0  Business Banking Contact Centre Specialist, Ni...   \n",
      "6  37404355.0               Casual Café All-rounder in Semaphore   \n",
      "7  37404350.0           Casual Café All-rounder in Woolloongabba   \n",
      "8  37404301.0                                       Telemarketer   \n",
      "9  37404286.0                       Casual Dish Hand in Brighton   \n",
      "\n",
      "                                          Company                      Date  \\\n",
      "0                                     Aldi Stores  2018-10-07T00:00:00.000Z   \n",
      "1                                     Aldi Stores  2018-10-07T00:00:00.000Z   \n",
      "2                             LB Creative Pty Ltd  2018-10-07T00:00:00.000Z   \n",
      "3                          Anaconda Group Pty Ltd  2018-10-07T00:00:00.000Z   \n",
      "4  Commonwealth Bank - Business & Private Banking  2018-10-07T00:00:00.000Z   \n",
      "5  Commonwealth Bank - Business & Private Banking  2018-10-07T00:00:00.000Z   \n",
      "6                                      Jora Local  2018-10-07T00:00:00.000Z   \n",
      "7                                      Jora Local  2018-10-07T00:00:00.000Z   \n",
      "8                            Reventon Investments  2018-10-07T00:00:00.000Z   \n",
      "9                                      Jora Local  2018-10-07T00:00:00.000Z   \n",
      "\n",
      "                  Location                             Area  \\\n",
      "0                   Sydney      North West & Hills District   \n",
      "1    Richmond & Hawkesbury                              NaN   \n",
      "2                 Brisbane              CBD & Inner Suburbs   \n",
      "3  Gosford & Central Coast                              NaN   \n",
      "4                   Sydney            Ryde & Macquarie Park   \n",
      "5                   Sydney            Ryde & Macquarie Park   \n",
      "6                 Adelaide                              NaN   \n",
      "7                 Brisbane              CBD & Inner Suburbs   \n",
      "8                Melbourne              CBD & Inner Suburbs   \n",
      "9                Melbourne  Bayside & South Eastern Suburbs   \n",
      "\n",
      "                   Classification               SubClassification  \\\n",
      "0      Retail & Consumer Products               Retail Assistants   \n",
      "1      Retail & Consumer Products               Retail Assistants   \n",
      "2      Retail & Consumer Products               Retail Assistants   \n",
      "3      Retail & Consumer Products               Retail Assistants   \n",
      "4  Call Centre & Customer Service                 Sales - Inbound   \n",
      "5  Call Centre & Customer Service  Customer Service - Call Centre   \n",
      "6           Hospitality & Tourism                   Waiting Staff   \n",
      "7           Hospitality & Tourism                   Waiting Staff   \n",
      "8  Call Centre & Customer Service                Sales - Outbound   \n",
      "9           Hospitality & Tourism        Kitchen & Sandwich Hands   \n",
      "\n",
      "                                         Requirement FullDescription  \\\n",
      "0  Our Casual Stock Replenishers pride themselves...             NaN   \n",
      "1  Our Casual Stock Replenishers pride themselves...             NaN   \n",
      "2  BRAND NEW FLAGSHIP STORE OPENING - SUNSHINE PLAZA             NaN   \n",
      "3  Bring it on - do you love the great outdoors a...             NaN   \n",
      "4  We are seeking highly articulate, enthusiastic...             NaN   \n",
      "5  We are seeking highly articulate, enthusiastic...             NaN   \n",
      "6  A cafe/restaurant in Semaphore is seeking a ca...             NaN   \n",
      "7  A cafe in Woolloongabba is seeking a casual Ca...             NaN   \n",
      "8  Market leading investment & financial services...             NaN   \n",
      "9  A restaurant in Brighton is seeking a casual D...             NaN   \n",
      "\n",
      "   LowestSalary  HighestSalary JobType  \n",
      "0           0.0           30.0     NaN  \n",
      "1           0.0           30.0     NaN  \n",
      "2           0.0           30.0     NaN  \n",
      "3           0.0           30.0     NaN  \n",
      "4           0.0           30.0     NaN  \n",
      "5           0.0           30.0     NaN  \n",
      "6           0.0           30.0     NaN  \n",
      "7           0.0           30.0     NaN  \n",
      "8           0.0           30.0     NaN  \n",
      "9           0.0           30.0     NaN  \n"
     ]
    }
   ],
   "source": [
    "print(df.head(10))"
   ]
  },
  {
   "cell_type": "code",
   "execution_count": 18,
   "id": "9ba66f5c",
   "metadata": {},
   "outputs": [],
   "source": [
    "df['Date'] = pd.to_datetime(df['Date'])"
   ]
  },
  {
   "cell_type": "code",
   "execution_count": 19,
   "id": "d8889909",
   "metadata": {},
   "outputs": [],
   "source": [
    "df['Classification'] = df['Classification'].astype(bool)\n",
    "df['SubClassification'] = df['SubClassification'].astype(bool)"
   ]
  },
  {
   "cell_type": "code",
   "execution_count": 20,
   "id": "61c97e16",
   "metadata": {
    "scrolled": true
   },
   "outputs": [
    {
     "data": {
      "text/plain": [
       "Id                               float64\n",
       "Title                             object\n",
       "Company                           object\n",
       "Date                 datetime64[ns, UTC]\n",
       "Location                          object\n",
       "Area                              object\n",
       "Classification                      bool\n",
       "SubClassification                   bool\n",
       "Requirement                       object\n",
       "FullDescription                   object\n",
       "LowestSalary                     float64\n",
       "HighestSalary                    float64\n",
       "JobType                           object\n",
       "dtype: object"
      ]
     },
     "execution_count": 20,
     "metadata": {},
     "output_type": "execute_result"
    }
   ],
   "source": [
    "df.dtypes"
   ]
  },
  {
   "cell_type": "code",
   "execution_count": 21,
   "id": "ae99a61d",
   "metadata": {},
   "outputs": [],
   "source": [
    "import numpy as np"
   ]
  },
  {
   "cell_type": "code",
   "execution_count": 22,
   "id": "6076bf4b",
   "metadata": {},
   "outputs": [
    {
     "name": "stdout",
     "output_type": "stream",
     "text": [
      "           Id                                              Title  \\\n",
      "0  37404348.0                           Casual Stock Replenisher   \n",
      "1  37404337.0                           Casual Stock Replenisher   \n",
      "2  37404356.0  RETAIL SALES SUPERSTARS and STYLISTS Wanted - ...   \n",
      "3  37404330.0                              Team member - Belrose   \n",
      "4  37404308.0  Business Banking Contact Centre Specialist, Ni...   \n",
      "\n",
      "                                          Company                      Date  \\\n",
      "0                                     Aldi Stores 2018-10-07 00:00:00+00:00   \n",
      "1                                     Aldi Stores 2018-10-07 00:00:00+00:00   \n",
      "2                             LB Creative Pty Ltd 2018-10-07 00:00:00+00:00   \n",
      "3                          Anaconda Group Pty Ltd 2018-10-07 00:00:00+00:00   \n",
      "4  Commonwealth Bank - Business & Private Banking 2018-10-07 00:00:00+00:00   \n",
      "\n",
      "                  Location                         Area  Classification  \\\n",
      "0                   Sydney  North West & Hills District            True   \n",
      "1    Richmond & Hawkesbury                          NaN            True   \n",
      "2                 Brisbane          CBD & Inner Suburbs            True   \n",
      "3  Gosford & Central Coast                          NaN            True   \n",
      "4                   Sydney        Ryde & Macquarie Park            True   \n",
      "\n",
      "   SubClassification                                        Requirement  \\\n",
      "0               True  Our Casual Stock Replenishers pride themselves...   \n",
      "1               True  Our Casual Stock Replenishers pride themselves...   \n",
      "2               True  BRAND NEW FLAGSHIP STORE OPENING - SUNSHINE PLAZA   \n",
      "3               True  Bring it on - do you love the great outdoors a...   \n",
      "4               True  We are seeking highly articulate, enthusiastic...   \n",
      "\n",
      "  FullDescription  LowestSalary  HighestSalary JobType  \n",
      "0             NaN           0.0           30.0     NaN  \n",
      "1             NaN           0.0           30.0     NaN  \n",
      "2             NaN           0.0           30.0     NaN  \n",
      "3             NaN           0.0           30.0     NaN  \n",
      "4             NaN           0.0           30.0     NaN  \n"
     ]
    }
   ],
   "source": [
    "print(df.head())"
   ]
  },
  {
   "cell_type": "code",
   "execution_count": 23,
   "id": "2fef9ea9",
   "metadata": {},
   "outputs": [
    {
     "name": "stdout",
     "output_type": "stream",
     "text": [
      "<class 'pandas.core.frame.DataFrame'>\n",
      "RangeIndex: 40789 entries, 0 to 40788\n",
      "Data columns (total 13 columns):\n",
      " #   Column             Non-Null Count  Dtype              \n",
      "---  ------             --------------  -----              \n",
      " 0   Id                 10099 non-null  float64            \n",
      " 1   Title              10099 non-null  object             \n",
      " 2   Company            9483 non-null   object             \n",
      " 3   Date               10099 non-null  datetime64[ns, UTC]\n",
      " 4   Location           10099 non-null  object             \n",
      " 5   Area               6392 non-null   object             \n",
      " 6   Classification     40789 non-null  bool               \n",
      " 7   SubClassification  40789 non-null  bool               \n",
      " 8   Requirement        10099 non-null  object             \n",
      " 9   FullDescription    9843 non-null   object             \n",
      " 10  LowestSalary       10099 non-null  float64            \n",
      " 11  HighestSalary      10099 non-null  float64            \n",
      " 12  JobType            9852 non-null   object             \n",
      "dtypes: bool(2), datetime64[ns, UTC](1), float64(3), object(7)\n",
      "memory usage: 3.5+ MB\n",
      "None\n"
     ]
    }
   ],
   "source": [
    "print(df.info())"
   ]
  },
  {
   "cell_type": "code",
   "execution_count": 24,
   "id": "a12c883f",
   "metadata": {},
   "outputs": [
    {
     "name": "stdout",
     "output_type": "stream",
     "text": [
      "Id                   30690\n",
      "Title                30690\n",
      "Company              31306\n",
      "Date                 30690\n",
      "Location             30690\n",
      "Area                 34397\n",
      "Classification           0\n",
      "SubClassification        0\n",
      "Requirement          30690\n",
      "FullDescription      30946\n",
      "LowestSalary         30690\n",
      "HighestSalary        30690\n",
      "JobType              30937\n",
      "dtype: int64\n"
     ]
    }
   ],
   "source": [
    "print(df.isnull().sum())\n",
    "\n",
    "df.dropna(inplace=True)\n",
    "\n",
    "df.fillna(0, inplace=True)"
   ]
  },
  {
   "cell_type": "code",
   "execution_count": 25,
   "id": "9aa24e7e",
   "metadata": {},
   "outputs": [
    {
     "name": "stdout",
     "output_type": "stream",
     "text": [
      "0\n"
     ]
    }
   ],
   "source": [
    "print(df.duplicated().sum())\n",
    "\n",
    "df.drop_duplicates(inplace=True)"
   ]
  },
  {
   "cell_type": "code",
   "execution_count": 26,
   "id": "68b65632",
   "metadata": {},
   "outputs": [
    {
     "name": "stdout",
     "output_type": "stream",
     "text": [
      "                 Id  LowestSalary  HighestSalary\n",
      "count  5.898000e+03   5898.000000    5898.000000\n",
      "mean   3.739050e+07     24.560868      42.390641\n",
      "std    2.780707e+04     20.621646      11.656813\n",
      "min    3.679829e+07      0.000000      30.000000\n",
      "25%    3.738720e+07      0.000000      30.000000\n",
      "50%    3.739687e+07     30.000000      40.000000\n",
      "75%    3.740149e+07     40.000000      50.000000\n",
      "max    3.740440e+07     50.000000      60.000000\n"
     ]
    },
    {
     "data": {
      "image/png": "[encoded data removed]",
      "text/plain": [
       "<Figure size 640x480 with 1 Axes>"
      ]
     },
     "metadata": {},
     "output_type": "display_data"
    }
   ],
   "source": [
    "import matplotlib.pyplot as plt\n",
    "\n",
    "print(df.describe())\n",
    "\n",
    "boxplot = df.boxplot(color='blue')\n",
    "\n",
    "plt.show()"
   ]
  },
  {
   "cell_type": "code",
   "execution_count": 27,
   "id": "450d4e9c",
   "metadata": {},
   "outputs": [],
   "source": [
    "df['Id'] = df['Id'].astype(int)"
   ]
  },
  {
   "cell_type": "code",
   "execution_count": 28,
   "id": "da16c904",
   "metadata": {},
   "outputs": [
    {
     "data": {
      "text/plain": [
       "Id                                 int32\n",
       "Title                             object\n",
       "Company                           object\n",
       "Date                 datetime64[ns, UTC]\n",
       "Location                          object\n",
       "Area                              object\n",
       "Classification                      bool\n",
       "SubClassification                   bool\n",
       "Requirement                       object\n",
       "FullDescription                   object\n",
       "LowestSalary                     float64\n",
       "HighestSalary                    float64\n",
       "JobType                           object\n",
       "dtype: object"
      ]
     },
     "execution_count": 28,
     "metadata": {},
     "output_type": "execute_result"
    }
   ],
   "source": [
    "df.dtypes"
   ]
  },
  {
   "cell_type": "code",
   "execution_count": null,
   "id": "14403ae6",
   "metadata": {},
   "outputs": [],
   "source": []
  },
  {
   "cell_type": "code",
   "execution_count": null,
   "id": "6682a6fb",
   "metadata": {},
   "outputs": [],
   "source": []
  }
 ],
 "metadata": {
  "kernelspec": {
   "display_name": "Python 3 (ipykernel)",
   "language": "python",
   "name": "python3"
  },
  "language_info": {
   "codemirror_mode": {
    "name": "ipython",
    "version": 3
   },
   "file_extension": ".py",
   "mimetype": "text/x-python",
   "name": "python",
   "nbconvert_exporter": "python",
   "pygments_lexer": "ipython3",
   "version": "3.9.13"
  }
 },
 "nbformat": 4,
 "nbformat_minor": 5
}
